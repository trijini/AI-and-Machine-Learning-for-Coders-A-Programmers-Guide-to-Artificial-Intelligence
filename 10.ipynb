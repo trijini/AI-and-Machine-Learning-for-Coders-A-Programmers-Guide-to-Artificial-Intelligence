{
  "nbformat": 4,
  "nbformat_minor": 0,
  "metadata": {
    "colab": {
      "provenance": [],
      "collapsed_sections": [],
      "authorship_tag": "ABX9TyNRrdv7qY8e6Is86QWFcgwu",
      "include_colab_link": true
    },
    "kernelspec": {
      "name": "python3",
      "display_name": "Python 3"
    },
    "language_info": {
      "name": "python"
    }
  },
  "cells": [
    {
      "cell_type": "markdown",
      "metadata": {
        "id": "view-in-github",
        "colab_type": "text"
      },
      "source": [
        "<a href=\"https://colab.research.google.com/github/trijini/AI-and-Machine-Learning-for-Coders-A-Programmers-Guide-to-Artificial-Intelligence/blob/main/10.ipynb\" target=\"_parent\"><img src=\"https://colab.research.google.com/assets/colab-badge.svg\" alt=\"Open In Colab\"/></a>"
      ]
    },
    {
      "cell_type": "code",
      "execution_count": 7,
      "metadata": {
        "id": "Opuza6ndXmZ3"
      },
      "outputs": [],
      "source": [
        "import numpy as np\n",
        "def plot_series(time, series, format=\"-\", start=0, end=None):\n",
        "  plt.plot(time[start:end], series[start:end], format)\n",
        "  plt.xlabel(\"time\")\n",
        "  plt.ylabel(\"Value\")\n",
        "  plt.grid(True)\n",
        "\n",
        "def trend(time, slope=0):\n",
        "  return slope * time\n",
        "\n",
        "def seasonal_pattern(season_time):\n",
        "  return np.where(season_time < 0.4,\n",
        "                  np.cos(season_time * 2 * np.pi),\n",
        "                  1 / np.exp(3 * season_time))\n",
        "  \n",
        "def seasonality(time, period, amplitude=1, phase=0):\n",
        "  season_time = ((time+phase) % period) / period\n",
        "  return amplitude * seasonal_pattern(season_time)\n",
        "\n",
        "def noise(time, noise_level=1, seed=None):\n",
        "  rnd = np.random.RandomState(seed)\n",
        "  return rnd.randn(len(time)) * noise_level\n",
        "\n",
        "time = np.arange(4 * 365 + 1, dtype=\"float32\")\n",
        "series = trend(time, 0.1)\n",
        "baseline = 10\n",
        "amplitude = 20\n",
        "slope = 0.09\n",
        "noise_level = 5\n",
        "\n",
        "series = baseline + trend(time, slope)\n",
        "series += seasonality(time, period=365, amplitude=amplitude)\n",
        "series += noise(time, noise_level, seed=42)"
      ]
    }
  ]
}